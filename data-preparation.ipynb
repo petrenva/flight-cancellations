{
 "cells": [
  {
   "cell_type": "markdown",
   "metadata": {},
   "source": [
    "# Air flight cancellation data preparation\n",
    "## by Valeriya Petrenko\n",
    "\n",
    "## Preliminary Wrangling\n",
    "\n",
    "> The data comes from the U.S. Department of Transportation's (DOT) Bureau of Transportation Statistics (BTS), which  tracks the on-time performance of domestic flights operated by large air carriers.\n",
    "\n",
    "> The data contains flight delays and cancellations. We'll focus only on flight cancellation part.\n",
    "\n",
    "> Additional data was obtained from: http://stat-computing.org/dataexpo/2009/supplemental-data.html\n",
    "  * information about carriers: carriers.csv\n",
    "  * information about airports: airports.csv\n",
    "  "
   ]
  },
  {
   "cell_type": "code",
   "execution_count": 1,
   "metadata": {},
   "outputs": [],
   "source": [
    "from utils import *"
   ]
  },
  {
   "cell_type": "markdown",
   "metadata": {},
   "source": [
    "### Get cancellation data for (1987-2009) period"
   ]
  },
  {
   "cell_type": "code",
   "execution_count": 2,
   "metadata": {},
   "outputs": [],
   "source": [
    "DATA_PATH = \"./data/data/\""
   ]
  },
  {
   "cell_type": "code",
   "execution_count": 3,
   "metadata": {},
   "outputs": [],
   "source": [
    "loader = AirflightDelayDataLoader(DATA_PATH)\n",
    "years = range(1987, 2009)\n",
    "cols = ['Year', 'Month', 'DayofMonth', 'DayOfWeek', # date columns\n",
    "        'DepTime', 'CRSDepTime',                    # departure\n",
    "        'ArrTime', 'CRSArrTime',                    # arrival\n",
    "        'UniqueCarrier', 'FlightNum',               # air carrier related\n",
    "        'Origin', 'Dest',                           # origin/destination\n",
    "        'Cancelled', 'Diverted', 'CancellationCode' # cancellation\n",
    "       ]\n",
    "# using all these columns results in 10Gb data usage in memory\n",
    "# and requires 20Gb of RAM during processing\n",
    "# missing values: total rows = 123534969\n",
    "# DepTime: 2302136 (1.8% of total data)\n",
    "# ArrTime: 2584478 (2.0% of total data)\n",
    "# CancellationCode: 83844440 (68% of total data) "
   ]
  },
  {
   "cell_type": "code",
   "execution_count": 3,
   "metadata": {},
   "outputs": [],
   "source": [
    "# instead, let's just focus on a reduced set comprising of whether a flight was cancelled\n",
    "# at destinations"
   ]
  },
  {
   "cell_type": "code",
   "execution_count": 4,
   "metadata": {},
   "outputs": [
    {
     "name": "stdout",
     "output_type": "stream",
     "text": [
      "CPU times: user 5.11 s, sys: 2.3 s, total: 7.42 s\n",
      "Wall time: 13.5 s\n"
     ]
    }
   ],
   "source": [
    "%%time\n",
    "cancel_cols = ['Year', 'Month', 'UniqueCarrier', 'Dest', 'Cancelled']\n",
    "cancellation_fname = os.path.join(DATA_PATH, \"df_cancellation_1987-2008.pkl\")\n",
    "if not os.path.exists(cancellation_fname):\n",
    "    df = loader.get_data(years, cancel_cols)\n",
    "    df.to_pickle(cancellation_fname)\n",
    "else:\n",
    "    df = pd.read_pickle(cancellation_fname)"
   ]
  },
  {
   "cell_type": "code",
   "execution_count": 5,
   "metadata": {},
   "outputs": [
    {
     "data": {
      "text/plain": [
       "(Year              int16\n",
       " Month              int8\n",
       " UniqueCarrier    object\n",
       " Dest             object\n",
       " Cancelled          int8\n",
       " dtype: object, (123534969, 5))"
      ]
     },
     "execution_count": 5,
     "metadata": {},
     "output_type": "execute_result"
    }
   ],
   "source": [
    "df.dtypes, df.shape"
   ]
  },
  {
   "cell_type": "code",
   "execution_count": 6,
   "metadata": {},
   "outputs": [
    {
     "data": {
      "text/plain": [
       "'Memory usage: 3298.7 Mb'"
      ]
     },
     "execution_count": 6,
     "metadata": {},
     "output_type": "execute_result"
    }
   ],
   "source": [
    "memory_usage(df)"
   ]
  },
  {
   "cell_type": "code",
   "execution_count": 7,
   "metadata": {},
   "outputs": [],
   "source": [
    "# convert object types to category\n",
    "df.UniqueCarrier = df.UniqueCarrier.astype('category')\n",
    "df.Dest = df.Dest.astype('category')"
   ]
  },
  {
   "cell_type": "code",
   "execution_count": 8,
   "metadata": {},
   "outputs": [
    {
     "data": {
      "text/html": [
       "<div>\n",
       "<style>\n",
       "    .dataframe thead tr:only-child th {\n",
       "        text-align: right;\n",
       "    }\n",
       "\n",
       "    .dataframe thead th {\n",
       "        text-align: left;\n",
       "    }\n",
       "\n",
       "    .dataframe tbody tr th {\n",
       "        vertical-align: top;\n",
       "    }\n",
       "</style>\n",
       "<table border=\"1\" class=\"dataframe\">\n",
       "  <thead>\n",
       "    <tr style=\"text-align: right;\">\n",
       "      <th></th>\n",
       "      <th>Year</th>\n",
       "      <th>Month</th>\n",
       "      <th>UniqueCarrier</th>\n",
       "      <th>Dest</th>\n",
       "      <th>Cancelled</th>\n",
       "    </tr>\n",
       "  </thead>\n",
       "  <tbody>\n",
       "    <tr>\n",
       "      <th>0</th>\n",
       "      <td>1987</td>\n",
       "      <td>10</td>\n",
       "      <td>PS</td>\n",
       "      <td>SFO</td>\n",
       "      <td>0</td>\n",
       "    </tr>\n",
       "    <tr>\n",
       "      <th>1</th>\n",
       "      <td>1987</td>\n",
       "      <td>10</td>\n",
       "      <td>PS</td>\n",
       "      <td>SFO</td>\n",
       "      <td>0</td>\n",
       "    </tr>\n",
       "    <tr>\n",
       "      <th>2</th>\n",
       "      <td>1987</td>\n",
       "      <td>10</td>\n",
       "      <td>PS</td>\n",
       "      <td>SFO</td>\n",
       "      <td>0</td>\n",
       "    </tr>\n",
       "    <tr>\n",
       "      <th>3</th>\n",
       "      <td>1987</td>\n",
       "      <td>10</td>\n",
       "      <td>PS</td>\n",
       "      <td>SFO</td>\n",
       "      <td>0</td>\n",
       "    </tr>\n",
       "    <tr>\n",
       "      <th>4</th>\n",
       "      <td>1987</td>\n",
       "      <td>10</td>\n",
       "      <td>PS</td>\n",
       "      <td>SFO</td>\n",
       "      <td>0</td>\n",
       "    </tr>\n",
       "  </tbody>\n",
       "</table>\n",
       "</div>"
      ],
      "text/plain": [
       "   Year  Month UniqueCarrier Dest  Cancelled\n",
       "0  1987     10            PS  SFO          0\n",
       "1  1987     10            PS  SFO          0\n",
       "2  1987     10            PS  SFO          0\n",
       "3  1987     10            PS  SFO          0\n",
       "4  1987     10            PS  SFO          0"
      ]
     },
     "execution_count": 8,
     "metadata": {},
     "output_type": "execute_result"
    }
   ],
   "source": [
    "df.head()"
   ]
  },
  {
   "cell_type": "code",
   "execution_count": 9,
   "metadata": {},
   "outputs": [],
   "source": [
    "# since 1987 starts with month 10, which means we have data for 3 months only, drop this year\n",
    "df = df[df.Year > 1987]"
   ]
  },
  {
   "cell_type": "code",
   "execution_count": 10,
   "metadata": {},
   "outputs": [],
   "source": [
    "# combine all flights by Year, Month, UniqueCarrier and Dest\n",
    "index_cols = ['Year', 'Month', 'UniqueCarrier', 'Dest']\n",
    "s_cancel = df.groupby(index_cols)['Cancelled'].sum()\n",
    "s_tot = df.groupby(index_cols)['Cancelled'].count()\n",
    "df1 = pd.concat([s_tot, s_cancel], axis=1)\n",
    "df1.columns = [\"Flights\", \"Cancelled\"]"
   ]
  },
  {
   "cell_type": "code",
   "execution_count": 11,
   "metadata": {},
   "outputs": [
    {
     "data": {
      "text/html": [
       "<div>\n",
       "<style>\n",
       "    .dataframe thead tr:only-child th {\n",
       "        text-align: right;\n",
       "    }\n",
       "\n",
       "    .dataframe thead th {\n",
       "        text-align: left;\n",
       "    }\n",
       "\n",
       "    .dataframe tbody tr th {\n",
       "        vertical-align: top;\n",
       "    }\n",
       "</style>\n",
       "<table border=\"1\" class=\"dataframe\">\n",
       "  <thead>\n",
       "    <tr style=\"text-align: right;\">\n",
       "      <th></th>\n",
       "      <th>Year</th>\n",
       "      <th>Month</th>\n",
       "      <th>UniqueCarrier</th>\n",
       "      <th>Dest</th>\n",
       "      <th>Flights</th>\n",
       "      <th>Cancelled</th>\n",
       "    </tr>\n",
       "  </thead>\n",
       "  <tbody>\n",
       "    <tr>\n",
       "      <th>0</th>\n",
       "      <td>1988</td>\n",
       "      <td>1</td>\n",
       "      <td>AA</td>\n",
       "      <td>ABQ</td>\n",
       "      <td>264</td>\n",
       "      <td>11.0</td>\n",
       "    </tr>\n",
       "    <tr>\n",
       "      <th>1</th>\n",
       "      <td>1988</td>\n",
       "      <td>1</td>\n",
       "      <td>AA</td>\n",
       "      <td>ALB</td>\n",
       "      <td>117</td>\n",
       "      <td>2.0</td>\n",
       "    </tr>\n",
       "    <tr>\n",
       "      <th>2</th>\n",
       "      <td>1988</td>\n",
       "      <td>1</td>\n",
       "      <td>AA</td>\n",
       "      <td>AMA</td>\n",
       "      <td>117</td>\n",
       "      <td>7.0</td>\n",
       "    </tr>\n",
       "    <tr>\n",
       "      <th>3</th>\n",
       "      <td>1988</td>\n",
       "      <td>1</td>\n",
       "      <td>AA</td>\n",
       "      <td>ATL</td>\n",
       "      <td>531</td>\n",
       "      <td>39.0</td>\n",
       "    </tr>\n",
       "    <tr>\n",
       "      <th>4</th>\n",
       "      <td>1988</td>\n",
       "      <td>1</td>\n",
       "      <td>AA</td>\n",
       "      <td>AUS</td>\n",
       "      <td>324</td>\n",
       "      <td>19.0</td>\n",
       "    </tr>\n",
       "  </tbody>\n",
       "</table>\n",
       "</div>"
      ],
      "text/plain": [
       "   Year  Month UniqueCarrier Dest  Flights  Cancelled\n",
       "0  1988      1            AA  ABQ      264       11.0\n",
       "1  1988      1            AA  ALB      117        2.0\n",
       "2  1988      1            AA  AMA      117        7.0\n",
       "3  1988      1            AA  ATL      531       39.0\n",
       "4  1988      1            AA  AUS      324       19.0"
      ]
     },
     "execution_count": 11,
     "metadata": {},
     "output_type": "execute_result"
    }
   ],
   "source": [
    "df1 = df1.reset_index()\n",
    "df1.head()"
   ]
  },
  {
   "cell_type": "code",
   "execution_count": 12,
   "metadata": {},
   "outputs": [
    {
     "data": {
      "text/html": [
       "<div>\n",
       "<style>\n",
       "    .dataframe thead tr:only-child th {\n",
       "        text-align: right;\n",
       "    }\n",
       "\n",
       "    .dataframe thead th {\n",
       "        text-align: left;\n",
       "    }\n",
       "\n",
       "    .dataframe tbody tr th {\n",
       "        vertical-align: top;\n",
       "    }\n",
       "</style>\n",
       "<table border=\"1\" class=\"dataframe\">\n",
       "  <thead>\n",
       "    <tr style=\"text-align: right;\">\n",
       "      <th></th>\n",
       "      <th>Year</th>\n",
       "      <th>Month</th>\n",
       "      <th>UniqueCarrier</th>\n",
       "      <th>Dest</th>\n",
       "      <th>Flights</th>\n",
       "      <th>Cancelled</th>\n",
       "    </tr>\n",
       "  </thead>\n",
       "  <tbody>\n",
       "    <tr>\n",
       "      <th>261244</th>\n",
       "      <td>2008</td>\n",
       "      <td>12</td>\n",
       "      <td>YV</td>\n",
       "      <td>TEX</td>\n",
       "      <td>28</td>\n",
       "      <td>6.0</td>\n",
       "    </tr>\n",
       "    <tr>\n",
       "      <th>261245</th>\n",
       "      <td>2008</td>\n",
       "      <td>12</td>\n",
       "      <td>YV</td>\n",
       "      <td>TUS</td>\n",
       "      <td>275</td>\n",
       "      <td>1.0</td>\n",
       "    </tr>\n",
       "    <tr>\n",
       "      <th>261246</th>\n",
       "      <td>2008</td>\n",
       "      <td>12</td>\n",
       "      <td>YV</td>\n",
       "      <td>TVC</td>\n",
       "      <td>48</td>\n",
       "      <td>3.0</td>\n",
       "    </tr>\n",
       "    <tr>\n",
       "      <th>261247</th>\n",
       "      <td>2008</td>\n",
       "      <td>12</td>\n",
       "      <td>YV</td>\n",
       "      <td>TYS</td>\n",
       "      <td>71</td>\n",
       "      <td>4.0</td>\n",
       "    </tr>\n",
       "    <tr>\n",
       "      <th>261248</th>\n",
       "      <td>2008</td>\n",
       "      <td>12</td>\n",
       "      <td>YV</td>\n",
       "      <td>YUM</td>\n",
       "      <td>138</td>\n",
       "      <td>2.0</td>\n",
       "    </tr>\n",
       "  </tbody>\n",
       "</table>\n",
       "</div>"
      ],
      "text/plain": [
       "        Year  Month UniqueCarrier Dest  Flights  Cancelled\n",
       "261244  2008     12            YV  TEX       28        6.0\n",
       "261245  2008     12            YV  TUS      275        1.0\n",
       "261246  2008     12            YV  TVC       48        3.0\n",
       "261247  2008     12            YV  TYS       71        4.0\n",
       "261248  2008     12            YV  YUM      138        2.0"
      ]
     },
     "execution_count": 12,
     "metadata": {},
     "output_type": "execute_result"
    }
   ],
   "source": [
    "df1.tail()"
   ]
  },
  {
   "cell_type": "code",
   "execution_count": 13,
   "metadata": {},
   "outputs": [
    {
     "data": {
      "text/plain": [
       "Year                int64\n",
       "Month               int64\n",
       "UniqueCarrier    category\n",
       "Dest             category\n",
       "Flights             int64\n",
       "Cancelled         float64\n",
       "dtype: object"
      ]
     },
     "execution_count": 13,
     "metadata": {},
     "output_type": "execute_result"
    }
   ],
   "source": [
    "df1.dtypes"
   ]
  },
  {
   "cell_type": "code",
   "execution_count": 14,
   "metadata": {},
   "outputs": [
    {
     "data": {
      "text/plain": [
       "Year             0\n",
       "Month            0\n",
       "UniqueCarrier    0\n",
       "Dest             0\n",
       "Flights          0\n",
       "Cancelled        0\n",
       "dtype: int64"
      ]
     },
     "execution_count": 14,
     "metadata": {},
     "output_type": "execute_result"
    }
   ],
   "source": [
    "# all rows have data\n",
    "df1.isnull().sum()"
   ]
  },
  {
   "cell_type": "markdown",
   "metadata": {},
   "source": [
    "### Now load data for 06/2003 to 02/2019 period"
   ]
  },
  {
   "cell_type": "code",
   "execution_count": 15,
   "metadata": {},
   "outputs": [
    {
     "data": {
      "text/html": [
       "<div>\n",
       "<style>\n",
       "    .dataframe thead tr:only-child th {\n",
       "        text-align: right;\n",
       "    }\n",
       "\n",
       "    .dataframe thead th {\n",
       "        text-align: left;\n",
       "    }\n",
       "\n",
       "    .dataframe tbody tr th {\n",
       "        vertical-align: top;\n",
       "    }\n",
       "</style>\n",
       "<table border=\"1\" class=\"dataframe\">\n",
       "  <thead>\n",
       "    <tr style=\"text-align: right;\">\n",
       "      <th></th>\n",
       "      <th>year</th>\n",
       "      <th>month</th>\n",
       "      <th>carrier</th>\n",
       "      <th>airport</th>\n",
       "      <th>arr_flights</th>\n",
       "      <th>arr_cancelled</th>\n",
       "    </tr>\n",
       "  </thead>\n",
       "  <tbody>\n",
       "    <tr>\n",
       "      <th>0</th>\n",
       "      <td>2003</td>\n",
       "      <td>6</td>\n",
       "      <td>AA</td>\n",
       "      <td>ABQ</td>\n",
       "      <td>307.0</td>\n",
       "      <td>1.0</td>\n",
       "    </tr>\n",
       "    <tr>\n",
       "      <th>1</th>\n",
       "      <td>2003</td>\n",
       "      <td>6</td>\n",
       "      <td>AA</td>\n",
       "      <td>ANC</td>\n",
       "      <td>90.0</td>\n",
       "      <td>0.0</td>\n",
       "    </tr>\n",
       "    <tr>\n",
       "      <th>2</th>\n",
       "      <td>2003</td>\n",
       "      <td>6</td>\n",
       "      <td>AA</td>\n",
       "      <td>ATL</td>\n",
       "      <td>752.0</td>\n",
       "      <td>5.0</td>\n",
       "    </tr>\n",
       "    <tr>\n",
       "      <th>3</th>\n",
       "      <td>2003</td>\n",
       "      <td>6</td>\n",
       "      <td>AA</td>\n",
       "      <td>AUS</td>\n",
       "      <td>842.0</td>\n",
       "      <td>9.0</td>\n",
       "    </tr>\n",
       "    <tr>\n",
       "      <th>4</th>\n",
       "      <td>2003</td>\n",
       "      <td>6</td>\n",
       "      <td>AA</td>\n",
       "      <td>BDL</td>\n",
       "      <td>383.0</td>\n",
       "      <td>0.0</td>\n",
       "    </tr>\n",
       "  </tbody>\n",
       "</table>\n",
       "</div>"
      ],
      "text/plain": [
       "   year  month carrier airport  arr_flights  arr_cancelled\n",
       "0  2003      6      AA     ABQ        307.0            1.0\n",
       "1  2003      6      AA     ANC         90.0            0.0\n",
       "2  2003      6      AA     ATL        752.0            5.0\n",
       "3  2003      6      AA     AUS        842.0            9.0\n",
       "4  2003      6      AA     BDL        383.0            0.0"
      ]
     },
     "execution_count": 15,
     "metadata": {},
     "output_type": "execute_result"
    }
   ],
   "source": [
    "df2 = pd.read_csv(\"data/data/062003_022019_airline_delay_causes.csv\")\n",
    "df2.columns = [x.strip() for x in df2.columns]\n",
    "# last column has no data\n",
    "df2 = df2.drop(labels=df2.columns[-1], axis=1)\n",
    "columns = [\"year\", \"month\", \"carrier\", \"airport\", \"arr_flights\", \"arr_cancelled\"]\n",
    "df2 = df2[columns]\n",
    "df2.head()"
   ]
  },
  {
   "cell_type": "code",
   "execution_count": 16,
   "metadata": {},
   "outputs": [
    {
     "data": {
      "text/plain": [
       "year               0\n",
       "month              0\n",
       "carrier            0\n",
       "airport            0\n",
       "arr_flights      362\n",
       "arr_cancelled    362\n",
       "dtype: int64"
      ]
     },
     "execution_count": 16,
     "metadata": {},
     "output_type": "execute_result"
    }
   ],
   "source": [
    "# this dataset has some rows without data, drop them\n",
    "df2.isnull().sum()"
   ]
  },
  {
   "cell_type": "code",
   "execution_count": 17,
   "metadata": {},
   "outputs": [
    {
     "data": {
      "text/html": [
       "<div>\n",
       "<style>\n",
       "    .dataframe thead tr:only-child th {\n",
       "        text-align: right;\n",
       "    }\n",
       "\n",
       "    .dataframe thead th {\n",
       "        text-align: left;\n",
       "    }\n",
       "\n",
       "    .dataframe tbody tr th {\n",
       "        vertical-align: top;\n",
       "    }\n",
       "</style>\n",
       "<table border=\"1\" class=\"dataframe\">\n",
       "  <thead>\n",
       "    <tr style=\"text-align: right;\">\n",
       "      <th></th>\n",
       "      <th>year</th>\n",
       "      <th>month</th>\n",
       "      <th>carrier</th>\n",
       "      <th>airport</th>\n",
       "      <th>arr_flights</th>\n",
       "      <th>arr_cancelled</th>\n",
       "    </tr>\n",
       "  </thead>\n",
       "  <tbody>\n",
       "    <tr>\n",
       "      <th>0</th>\n",
       "      <td>2003</td>\n",
       "      <td>6</td>\n",
       "      <td>AA</td>\n",
       "      <td>ABQ</td>\n",
       "      <td>307.0</td>\n",
       "      <td>1.0</td>\n",
       "    </tr>\n",
       "    <tr>\n",
       "      <th>1</th>\n",
       "      <td>2003</td>\n",
       "      <td>6</td>\n",
       "      <td>AA</td>\n",
       "      <td>ANC</td>\n",
       "      <td>90.0</td>\n",
       "      <td>0.0</td>\n",
       "    </tr>\n",
       "    <tr>\n",
       "      <th>2</th>\n",
       "      <td>2003</td>\n",
       "      <td>6</td>\n",
       "      <td>AA</td>\n",
       "      <td>ATL</td>\n",
       "      <td>752.0</td>\n",
       "      <td>5.0</td>\n",
       "    </tr>\n",
       "    <tr>\n",
       "      <th>3</th>\n",
       "      <td>2003</td>\n",
       "      <td>6</td>\n",
       "      <td>AA</td>\n",
       "      <td>AUS</td>\n",
       "      <td>842.0</td>\n",
       "      <td>9.0</td>\n",
       "    </tr>\n",
       "    <tr>\n",
       "      <th>4</th>\n",
       "      <td>2003</td>\n",
       "      <td>6</td>\n",
       "      <td>AA</td>\n",
       "      <td>BDL</td>\n",
       "      <td>383.0</td>\n",
       "      <td>0.0</td>\n",
       "    </tr>\n",
       "  </tbody>\n",
       "</table>\n",
       "</div>"
      ],
      "text/plain": [
       "   year  month carrier airport  arr_flights  arr_cancelled\n",
       "0  2003      6      AA     ABQ        307.0            1.0\n",
       "1  2003      6      AA     ANC         90.0            0.0\n",
       "2  2003      6      AA     ATL        752.0            5.0\n",
       "3  2003      6      AA     AUS        842.0            9.0\n",
       "4  2003      6      AA     BDL        383.0            0.0"
      ]
     },
     "execution_count": 17,
     "metadata": {},
     "output_type": "execute_result"
    }
   ],
   "source": [
    "df2 = df2.dropna()\n",
    "df2.head()"
   ]
  },
  {
   "cell_type": "code",
   "execution_count": 18,
   "metadata": {},
   "outputs": [],
   "source": [
    "# convert carrier and airport to categorical variables\n",
    "df2.carrier = df2.carrier.astype('category')\n",
    "df2.airport = df2.airport.astype('category')\n",
    "df2.arr_flights = df2.arr_flights.astype(np.int64)"
   ]
  },
  {
   "cell_type": "code",
   "execution_count": 19,
   "metadata": {},
   "outputs": [
    {
     "data": {
      "text/plain": [
       "year                int64\n",
       "month               int64\n",
       "carrier          category\n",
       "airport          category\n",
       "arr_flights         int64\n",
       "arr_cancelled     float64\n",
       "dtype: object"
      ]
     },
     "execution_count": 19,
     "metadata": {},
     "output_type": "execute_result"
    }
   ],
   "source": [
    "df2.dtypes"
   ]
  },
  {
   "cell_type": "code",
   "execution_count": 20,
   "metadata": {},
   "outputs": [
    {
     "data": {
      "text/plain": [
       "(243749, 6)"
      ]
     },
     "execution_count": 20,
     "metadata": {},
     "output_type": "execute_result"
    }
   ],
   "source": [
    "# since data for 2019 and 2003 is not for whole year, drop those years\n",
    "df2 = df2[(df2['year'] > 2003) & (df2['year'] < 2019)]\n",
    "df2.shape"
   ]
  },
  {
   "cell_type": "markdown",
   "metadata": {},
   "source": [
    "### Since two datasets have common periods we can validate data in this period"
   ]
  },
  {
   "cell_type": "code",
   "execution_count": 21,
   "metadata": {},
   "outputs": [
    {
     "data": {
      "text/html": [
       "<div>\n",
       "<style>\n",
       "    .dataframe thead tr:only-child th {\n",
       "        text-align: right;\n",
       "    }\n",
       "\n",
       "    .dataframe thead th {\n",
       "        text-align: left;\n",
       "    }\n",
       "\n",
       "    .dataframe tbody tr th {\n",
       "        vertical-align: top;\n",
       "    }\n",
       "</style>\n",
       "<table border=\"1\" class=\"dataframe\">\n",
       "  <thead>\n",
       "    <tr style=\"text-align: right;\">\n",
       "      <th></th>\n",
       "      <th>Year</th>\n",
       "      <th>Month</th>\n",
       "      <th>UniqueCarrier</th>\n",
       "      <th>Dest</th>\n",
       "      <th>Flights</th>\n",
       "      <th>Cancelled</th>\n",
       "    </tr>\n",
       "  </thead>\n",
       "  <tbody>\n",
       "    <tr>\n",
       "      <th>171105</th>\n",
       "      <td>2004</td>\n",
       "      <td>1</td>\n",
       "      <td>AA</td>\n",
       "      <td>ABQ</td>\n",
       "      <td>275</td>\n",
       "      <td>1.0</td>\n",
       "    </tr>\n",
       "    <tr>\n",
       "      <th>171106</th>\n",
       "      <td>2004</td>\n",
       "      <td>1</td>\n",
       "      <td>AA</td>\n",
       "      <td>ATL</td>\n",
       "      <td>704</td>\n",
       "      <td>13.0</td>\n",
       "    </tr>\n",
       "    <tr>\n",
       "      <th>171107</th>\n",
       "      <td>2004</td>\n",
       "      <td>1</td>\n",
       "      <td>AA</td>\n",
       "      <td>AUS</td>\n",
       "      <td>793</td>\n",
       "      <td>17.0</td>\n",
       "    </tr>\n",
       "    <tr>\n",
       "      <th>171108</th>\n",
       "      <td>2004</td>\n",
       "      <td>1</td>\n",
       "      <td>AA</td>\n",
       "      <td>BDL</td>\n",
       "      <td>368</td>\n",
       "      <td>13.0</td>\n",
       "    </tr>\n",
       "    <tr>\n",
       "      <th>171109</th>\n",
       "      <td>2004</td>\n",
       "      <td>1</td>\n",
       "      <td>AA</td>\n",
       "      <td>BHM</td>\n",
       "      <td>93</td>\n",
       "      <td>0.0</td>\n",
       "    </tr>\n",
       "  </tbody>\n",
       "</table>\n",
       "</div>"
      ],
      "text/plain": [
       "        Year  Month UniqueCarrier Dest  Flights  Cancelled\n",
       "171105  2004      1            AA  ABQ      275        1.0\n",
       "171106  2004      1            AA  ATL      704       13.0\n",
       "171107  2004      1            AA  AUS      793       17.0\n",
       "171108  2004      1            AA  BDL      368       13.0\n",
       "171109  2004      1            AA  BHM       93        0.0"
      ]
     },
     "execution_count": 21,
     "metadata": {},
     "output_type": "execute_result"
    }
   ],
   "source": [
    "df1[df1['Year'] == 2004].head()"
   ]
  },
  {
   "cell_type": "code",
   "execution_count": 22,
   "metadata": {},
   "outputs": [
    {
     "data": {
      "text/html": [
       "<div>\n",
       "<style>\n",
       "    .dataframe thead tr:only-child th {\n",
       "        text-align: right;\n",
       "    }\n",
       "\n",
       "    .dataframe thead th {\n",
       "        text-align: left;\n",
       "    }\n",
       "\n",
       "    .dataframe tbody tr th {\n",
       "        vertical-align: top;\n",
       "    }\n",
       "</style>\n",
       "<table border=\"1\" class=\"dataframe\">\n",
       "  <thead>\n",
       "    <tr style=\"text-align: right;\">\n",
       "      <th></th>\n",
       "      <th>year</th>\n",
       "      <th>month</th>\n",
       "      <th>carrier</th>\n",
       "      <th>airport</th>\n",
       "      <th>arr_flights</th>\n",
       "      <th>arr_cancelled</th>\n",
       "    </tr>\n",
       "  </thead>\n",
       "  <tbody>\n",
       "    <tr>\n",
       "      <th>8763</th>\n",
       "      <td>2004</td>\n",
       "      <td>1</td>\n",
       "      <td>AA</td>\n",
       "      <td>ABQ</td>\n",
       "      <td>275</td>\n",
       "      <td>1.0</td>\n",
       "    </tr>\n",
       "    <tr>\n",
       "      <th>8764</th>\n",
       "      <td>2004</td>\n",
       "      <td>1</td>\n",
       "      <td>AA</td>\n",
       "      <td>ATL</td>\n",
       "      <td>704</td>\n",
       "      <td>13.0</td>\n",
       "    </tr>\n",
       "    <tr>\n",
       "      <th>8765</th>\n",
       "      <td>2004</td>\n",
       "      <td>1</td>\n",
       "      <td>AA</td>\n",
       "      <td>AUS</td>\n",
       "      <td>793</td>\n",
       "      <td>17.0</td>\n",
       "    </tr>\n",
       "    <tr>\n",
       "      <th>8766</th>\n",
       "      <td>2004</td>\n",
       "      <td>1</td>\n",
       "      <td>AA</td>\n",
       "      <td>BDL</td>\n",
       "      <td>368</td>\n",
       "      <td>13.0</td>\n",
       "    </tr>\n",
       "    <tr>\n",
       "      <th>8767</th>\n",
       "      <td>2004</td>\n",
       "      <td>1</td>\n",
       "      <td>AA</td>\n",
       "      <td>BHM</td>\n",
       "      <td>93</td>\n",
       "      <td>0.0</td>\n",
       "    </tr>\n",
       "  </tbody>\n",
       "</table>\n",
       "</div>"
      ],
      "text/plain": [
       "      year  month carrier airport  arr_flights  arr_cancelled\n",
       "8763  2004      1      AA     ABQ          275            1.0\n",
       "8764  2004      1      AA     ATL          704           13.0\n",
       "8765  2004      1      AA     AUS          793           17.0\n",
       "8766  2004      1      AA     BDL          368           13.0\n",
       "8767  2004      1      AA     BHM           93            0.0"
      ]
     },
     "execution_count": 22,
     "metadata": {},
     "output_type": "execute_result"
    }
   ],
   "source": [
    "df2[df2['year'] == 2004].head()"
   ]
  },
  {
   "cell_type": "code",
   "execution_count": 23,
   "metadata": {},
   "outputs": [],
   "source": [
    "# assert we have the same results from two datasets\n",
    "assert df1[df1.Year == 2004].shape == df2[df2.year == 2004].shape"
   ]
  },
  {
   "cell_type": "code",
   "execution_count": 24,
   "metadata": {},
   "outputs": [],
   "source": [
    "# since 2004 year is in both, remove it from the first table\n",
    "df1 = df1[df1.Year < 2004]\n",
    "# to concatenate both datasets the column names should be the same\n",
    "df2.columns = df1.columns\n",
    "# combine two datasets into one\n",
    "dft = pd.concat([df1, df2])"
   ]
  },
  {
   "cell_type": "code",
   "execution_count": 25,
   "metadata": {},
   "outputs": [
    {
     "data": {
      "text/html": [
       "<div>\n",
       "<style>\n",
       "    .dataframe thead tr:only-child th {\n",
       "        text-align: right;\n",
       "    }\n",
       "\n",
       "    .dataframe thead th {\n",
       "        text-align: left;\n",
       "    }\n",
       "\n",
       "    .dataframe tbody tr th {\n",
       "        vertical-align: top;\n",
       "    }\n",
       "</style>\n",
       "<table border=\"1\" class=\"dataframe\">\n",
       "  <thead>\n",
       "    <tr style=\"text-align: right;\">\n",
       "      <th></th>\n",
       "      <th>Year</th>\n",
       "      <th>Month</th>\n",
       "      <th>UniqueCarrier</th>\n",
       "      <th>Dest</th>\n",
       "      <th>Flights</th>\n",
       "      <th>Cancelled</th>\n",
       "    </tr>\n",
       "  </thead>\n",
       "  <tbody>\n",
       "    <tr>\n",
       "      <th>0</th>\n",
       "      <td>1988</td>\n",
       "      <td>1</td>\n",
       "      <td>AA</td>\n",
       "      <td>ABQ</td>\n",
       "      <td>264</td>\n",
       "      <td>11.0</td>\n",
       "    </tr>\n",
       "    <tr>\n",
       "      <th>1</th>\n",
       "      <td>1988</td>\n",
       "      <td>1</td>\n",
       "      <td>AA</td>\n",
       "      <td>ALB</td>\n",
       "      <td>117</td>\n",
       "      <td>2.0</td>\n",
       "    </tr>\n",
       "    <tr>\n",
       "      <th>2</th>\n",
       "      <td>1988</td>\n",
       "      <td>1</td>\n",
       "      <td>AA</td>\n",
       "      <td>AMA</td>\n",
       "      <td>117</td>\n",
       "      <td>7.0</td>\n",
       "    </tr>\n",
       "    <tr>\n",
       "      <th>3</th>\n",
       "      <td>1988</td>\n",
       "      <td>1</td>\n",
       "      <td>AA</td>\n",
       "      <td>ATL</td>\n",
       "      <td>531</td>\n",
       "      <td>39.0</td>\n",
       "    </tr>\n",
       "    <tr>\n",
       "      <th>4</th>\n",
       "      <td>1988</td>\n",
       "      <td>1</td>\n",
       "      <td>AA</td>\n",
       "      <td>AUS</td>\n",
       "      <td>324</td>\n",
       "      <td>19.0</td>\n",
       "    </tr>\n",
       "  </tbody>\n",
       "</table>\n",
       "</div>"
      ],
      "text/plain": [
       "   Year  Month UniqueCarrier Dest  Flights  Cancelled\n",
       "0  1988      1            AA  ABQ      264       11.0\n",
       "1  1988      1            AA  ALB      117        2.0\n",
       "2  1988      1            AA  AMA      117        7.0\n",
       "3  1988      1            AA  ATL      531       39.0\n",
       "4  1988      1            AA  AUS      324       19.0"
      ]
     },
     "execution_count": 25,
     "metadata": {},
     "output_type": "execute_result"
    }
   ],
   "source": [
    "dft.head()"
   ]
  },
  {
   "cell_type": "code",
   "execution_count": 26,
   "metadata": {},
   "outputs": [
    {
     "data": {
      "text/html": [
       "<div>\n",
       "<style>\n",
       "    .dataframe thead tr:only-child th {\n",
       "        text-align: right;\n",
       "    }\n",
       "\n",
       "    .dataframe thead th {\n",
       "        text-align: left;\n",
       "    }\n",
       "\n",
       "    .dataframe tbody tr th {\n",
       "        vertical-align: top;\n",
       "    }\n",
       "</style>\n",
       "<table border=\"1\" class=\"dataframe\">\n",
       "  <thead>\n",
       "    <tr style=\"text-align: right;\">\n",
       "      <th></th>\n",
       "      <th>Year</th>\n",
       "      <th>Month</th>\n",
       "      <th>UniqueCarrier</th>\n",
       "      <th>Dest</th>\n",
       "      <th>Flights</th>\n",
       "      <th>Cancelled</th>\n",
       "    </tr>\n",
       "  </thead>\n",
       "  <tbody>\n",
       "    <tr>\n",
       "      <th>252859</th>\n",
       "      <td>2018</td>\n",
       "      <td>12</td>\n",
       "      <td>YX</td>\n",
       "      <td>TLH</td>\n",
       "      <td>47</td>\n",
       "      <td>1.0</td>\n",
       "    </tr>\n",
       "    <tr>\n",
       "      <th>252860</th>\n",
       "      <td>2018</td>\n",
       "      <td>12</td>\n",
       "      <td>YX</td>\n",
       "      <td>TUL</td>\n",
       "      <td>39</td>\n",
       "      <td>0.0</td>\n",
       "    </tr>\n",
       "    <tr>\n",
       "      <th>252861</th>\n",
       "      <td>2018</td>\n",
       "      <td>12</td>\n",
       "      <td>YX</td>\n",
       "      <td>TYS</td>\n",
       "      <td>18</td>\n",
       "      <td>0.0</td>\n",
       "    </tr>\n",
       "    <tr>\n",
       "      <th>252862</th>\n",
       "      <td>2018</td>\n",
       "      <td>12</td>\n",
       "      <td>YX</td>\n",
       "      <td>VPS</td>\n",
       "      <td>31</td>\n",
       "      <td>0.0</td>\n",
       "    </tr>\n",
       "    <tr>\n",
       "      <th>252863</th>\n",
       "      <td>2018</td>\n",
       "      <td>12</td>\n",
       "      <td>YX</td>\n",
       "      <td>XNA</td>\n",
       "      <td>76</td>\n",
       "      <td>0.0</td>\n",
       "    </tr>\n",
       "  </tbody>\n",
       "</table>\n",
       "</div>"
      ],
      "text/plain": [
       "        Year  Month UniqueCarrier Dest  Flights  Cancelled\n",
       "252859  2018     12            YX  TLH       47        1.0\n",
       "252860  2018     12            YX  TUL       39        0.0\n",
       "252861  2018     12            YX  TYS       18        0.0\n",
       "252862  2018     12            YX  VPS       31        0.0\n",
       "252863  2018     12            YX  XNA       76        0.0"
      ]
     },
     "execution_count": 26,
     "metadata": {},
     "output_type": "execute_result"
    }
   ],
   "source": [
    "dft.tail()"
   ]
  },
  {
   "cell_type": "code",
   "execution_count": 27,
   "metadata": {},
   "outputs": [
    {
     "data": {
      "text/plain": [
       "(414854, 6)"
      ]
     },
     "execution_count": 27,
     "metadata": {},
     "output_type": "execute_result"
    }
   ],
   "source": [
    "dft.shape"
   ]
  },
  {
   "cell_type": "code",
   "execution_count": 28,
   "metadata": {},
   "outputs": [],
   "source": [
    "# finally save to pickle file\n",
    "fname = os.path.join(DATA_PATH, \"df_cancellation_1988-2018.pkl\")\n",
    "dft.to_pickle(fname)"
   ]
  },
  {
   "cell_type": "markdown",
   "metadata": {},
   "source": []
  }
 ],
 "metadata": {
  "kernelspec": {
   "display_name": "Python 3",
   "language": "python",
   "name": "python3"
  },
  "language_info": {
   "codemirror_mode": {
    "name": "ipython",
    "version": 3
   },
   "file_extension": ".py",
   "mimetype": "text/x-python",
   "name": "python",
   "nbconvert_exporter": "python",
   "pygments_lexer": "ipython3",
   "version": "3.6.8"
  }
 },
 "nbformat": 4,
 "nbformat_minor": 2
}
